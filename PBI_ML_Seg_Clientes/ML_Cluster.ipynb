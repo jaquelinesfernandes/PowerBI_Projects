{
 "cells": [
  {
   "cell_type": "markdown",
   "id": "baed196a",
   "metadata": {},
   "source": [
    "## <font color='white'>Machine Learning com Linguagem Python e Power BI com Jupyter Notebook</font>\n",
    "\n",
    "Problema de Negócio:\n",
    "\n",
    "Considerando dados históricos de clientes que realizaram compras em nossa empresa, faça o agrupamento (segmentação) dos clientes por similaridade de características em 3 grupos e envie o relatório para a equipe de Marketing."
   ]
  },
  {
   "cell_type": "code",
   "execution_count": null,
   "id": "22500ca4",
   "metadata": {},
   "outputs": [],
   "source": [
    "# Versão da Linguagem Python\n",
    "from platform import python_version\n",
    "print('Versão da Linguagem Python Usada Neste Jupyter Notebook:', python_version())"
   ]
  },
  {
   "cell_type": "code",
   "execution_count": null,
   "id": "64c49233",
   "metadata": {},
   "outputs": [],
   "source": [
    "# Imports\n",
    "import pandas as pd\n",
    "from sklearn.cluster import KMeans\n",
    "from sklearn.preprocessing import StandardScaler"
   ]
  },
  {
   "cell_type": "markdown",
   "id": "400c15c4",
   "metadata": {},
   "source": [
    "## Carregando os Dados"
   ]
  },
  {
   "cell_type": "code",
   "execution_count": null,
   "id": "8cc1cb59",
   "metadata": {},
   "outputs": [],
   "source": [
    "# Carrega os dados\n",
    "df_dsa = pd.read_csv('dados/dados_clientes.csv')"
   ]
  },
  {
   "cell_type": "code",
   "execution_count": null,
   "id": "839e732b",
   "metadata": {},
   "outputs": [],
   "source": [
    "type(df_dsa)"
   ]
  },
  {
   "cell_type": "code",
   "execution_count": null,
   "id": "e9684733",
   "metadata": {},
   "outputs": [],
   "source": [
    "# Visualiza as 10 primeiras linhas\n",
    "df_dsa.head(10)"
   ]
  },
  {
   "cell_type": "markdown",
   "id": "f4c4fddc",
   "metadata": {},
   "source": [
    "## Análise Exploratória"
   ]
  },
  {
   "cell_type": "code",
   "execution_count": null,
   "id": "854cd7a8",
   "metadata": {},
   "outputs": [],
   "source": [
    "# Resumo estatístico\n",
    "df_dsa[['idade', 'renda_anual', 'pontuacao_gastos']].describe()"
   ]
  },
  {
   "cell_type": "markdown",
   "id": "0d3b7cf2",
   "metadata": {},
   "source": [
    "## Pré-Processamento dos Dados"
   ]
  },
  {
   "cell_type": "code",
   "execution_count": null,
   "id": "cf8afdf6",
   "metadata": {},
   "outputs": [],
   "source": [
    "# Cria o padronizador dos dados\n",
    "padronizador = StandardScaler()"
   ]
  },
  {
   "cell_type": "code",
   "execution_count": null,
   "id": "fd03d713",
   "metadata": {},
   "outputs": [],
   "source": [
    "# Aplica o padronizador somente nas colunas de interesse\n",
    "dados_padronizados = padronizador.fit_transform(df_dsa[['idade', 'renda_anual', 'pontuacao_gastos']])"
   ]
  },
  {
   "cell_type": "code",
   "execution_count": null,
   "id": "8d5e3ff4",
   "metadata": {},
   "outputs": [],
   "source": [
    "# Visualiza os dados\n",
    "print(dados_padronizados)"
   ]
  },
  {
   "cell_type": "markdown",
   "id": "b08df903",
   "metadata": {},
   "source": [
    "## Construção do Modelo de Machine Learning Para Segmentação de Clientes"
   ]
  },
  {
   "cell_type": "code",
   "execution_count": null,
   "id": "3f60c1b0",
   "metadata": {},
   "outputs": [],
   "source": [
    "# Definimos o número de clusters (k)\n",
    "k = 3"
   ]
  },
  {
   "cell_type": "code",
   "execution_count": null,
   "id": "7c1bf385",
   "metadata": {},
   "outputs": [],
   "source": [
    "# Criamos o modelo K-means\n",
    "kmeans = KMeans(n_clusters = k)"
   ]
  },
  {
   "cell_type": "code",
   "execution_count": null,
   "id": "2a2c2995",
   "metadata": {},
   "outputs": [],
   "source": [
    "# Treinamento do modelo com os dados padronizados\n",
    "kmeans.fit(dados_padronizados)"
   ]
  },
  {
   "cell_type": "code",
   "execution_count": null,
   "id": "35e03206",
   "metadata": {},
   "outputs": [],
   "source": [
    "# Atribuímos os rótulos dos clusters aos clientes\n",
    "df_dsa['cluster'] = kmeans.labels_"
   ]
  },
  {
   "cell_type": "code",
   "execution_count": null,
   "id": "8cf7345e",
   "metadata": {},
   "outputs": [],
   "source": [
    "# Exibe o resultado (10 primeiras linhas)\n",
    "df_dsa.head(10)"
   ]
  },
  {
   "cell_type": "code",
   "execution_count": null,
   "id": "86c55c53",
   "metadata": {},
   "outputs": [],
   "source": [
    "# Salvamos o resultado em disco\n",
    "df_dsa.to_csv('dados/segmentos.csv', index = False)"
   ]
  },
  {
   "cell_type": "markdown",
   "id": "1d89d089",
   "metadata": {},
   "source": [
    "## Gerando Relatório dos Segmentos de Clientes com Power BI no Jupyter Notebook"
   ]
  },
  {
   "cell_type": "markdown",
   "id": "4fe8207e",
   "metadata": {},
   "source": [
    "https://pypi.org/project/powerbiclient/"
   ]
  },
  {
   "cell_type": "code",
   "execution_count": null,
   "id": "652359ca",
   "metadata": {},
   "outputs": [],
   "source": [
    "# Instala o pacote  \n",
    "!pip install -q powerbiclient"
   ]
  },
  {
   "cell_type": "code",
   "execution_count": null,
   "id": "fc4b2edd",
   "metadata": {},
   "outputs": [],
   "source": [
    "# Carrega as funções usadas para autenticar e gerar  relatórios\n",
    "from powerbiclient import QuickVisualize, get_dataset_config, Report\n",
    "from powerbiclient.authentication import DeviceCodeLoginAuthentication"
   ]
  },
  {
   "cell_type": "markdown",
   "id": "21b960cf",
   "metadata": {},
   "source": [
    "**ATENÇÃO**: Para fazer a autenticação é necessário ter uma conta no Power BI Service, criada com e-mail de estudante ou corporativo. Caso você não tenha, apenas acompanhe as aulas e ao final mostraremos como abrir o relatório no Power BI  Desktop, que será fornecido ao final do capítulo."
   ]
  },
  {
   "cell_type": "code",
   "execution_count": null,
   "id": "f958d58d",
   "metadata": {},
   "outputs": [],
   "source": [
    "# Define a autenticação no Power BI Service\n",
    "device_auth = DeviceCodeLoginAuthentication()"
   ]
  },
  {
   "cell_type": "code",
   "execution_count": null,
   "id": "56a090a5",
   "metadata": {},
   "outputs": [],
   "source": [
    "# Cria o relatório no Power BI\n",
    "relatorio_PBI = QuickVisualize(get_dataset_config(df_dsa), auth = device_auth)"
   ]
  },
  {
   "cell_type": "code",
   "execution_count": null,
   "id": "412f7c5f",
   "metadata": {},
   "outputs": [],
   "source": [
    "# Renderiza (visualiza) o relatório\n",
    "relatorio_PBI"
   ]
  },
  {
   "cell_type": "markdown",
   "id": "447132ba",
   "metadata": {},
   "source": [
    "# Fim"
   ]
  }
 ],
 "metadata": {
  "kernelspec": {
   "display_name": "Python 3 (ipykernel)",
   "language": "python",
   "name": "python3"
  },
  "language_info": {
   "codemirror_mode": {
    "name": "ipython",
    "version": 3
   },
   "file_extension": ".py",
   "mimetype": "text/x-python",
   "name": "python",
   "nbconvert_exporter": "python",
   "pygments_lexer": "ipython3",
   "version": "3.11.4"
  }
 },
 "nbformat": 4,
 "nbformat_minor": 5
}
